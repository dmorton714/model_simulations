{
 "cells": [
  {
   "cell_type": "code",
   "execution_count": 10,
   "metadata": {},
   "outputs": [],
   "source": [
    "from pint import UnitRegistry\n",
    "import numpy as np\n",
    "import pandas as pd\n",
    "from numpy import sqrt"
   ]
  },
  {
   "attachments": {},
   "cell_type": "markdown",
   "metadata": {},
   "source": [
    "represents accelaration of gravity in meters per second   "
   ]
  },
  {
   "cell_type": "code",
   "execution_count": 11,
   "metadata": {},
   "outputs": [],
   "source": [
    "a = 9.8"
   ]
  },
  {
   "attachments": {},
   "cell_type": "markdown",
   "metadata": {},
   "source": [
    "represents time "
   ]
  },
  {
   "cell_type": "code",
   "execution_count": 12,
   "metadata": {},
   "outputs": [],
   "source": [
    "t = 3.4"
   ]
  },
  {
   "attachments": {},
   "cell_type": "markdown",
   "metadata": {},
   "source": [
    "velocity of penny after t secs "
   ]
  },
  {
   "cell_type": "code",
   "execution_count": 13,
   "metadata": {},
   "outputs": [
    {
     "name": "stdout",
     "output_type": "stream",
     "text": [
      "The Velocity of a penny falling for 3.4 seconds is 33.32 meters per second\n"
     ]
    }
   ],
   "source": [
    "v = a * t\n",
    "print('The Velocity of a penny falling for 3.4 seconds is', v, 'meters per second')"
   ]
  },
  {
   "attachments": {},
   "cell_type": "markdown",
   "metadata": {},
   "source": [
    "calculate the distance it would have fallen in the 3.4 seconds "
   ]
  },
  {
   "cell_type": "code",
   "execution_count": 14,
   "metadata": {},
   "outputs": [
    {
     "name": "stdout",
     "output_type": "stream",
     "text": [
      "The penny fell 56.644 meters\n"
     ]
    }
   ],
   "source": [
    "x = a * t**2 / 2 \n",
    "print('The penny fell', x, 'meters')"
   ]
  },
  {
   "attachments": {},
   "cell_type": "markdown",
   "metadata": {},
   "source": [
    "Falling of empire state building \n",
    "which is 381 meters "
   ]
  },
  {
   "cell_type": "code",
   "execution_count": 15,
   "metadata": {},
   "outputs": [],
   "source": [
    "h = 381"
   ]
  },
  {
   "cell_type": "code",
   "execution_count": 16,
   "metadata": {},
   "outputs": [
    {
     "data": {
      "text/plain": [
       "8.817885349720552"
      ]
     },
     "execution_count": 16,
     "metadata": {},
     "output_type": "execute_result"
    }
   ],
   "source": [
    "t = sqrt(2 * h / a) \n",
    "t\n",
    "# This is assuming that in wind resistence is in play \n",
    "# it would take 8.8 seconds to hit the ground "
   ]
  },
  {
   "attachments": {},
   "cell_type": "markdown",
   "metadata": {},
   "source": [
    "calculating the velocity "
   ]
  },
  {
   "cell_type": "code",
   "execution_count": 17,
   "metadata": {},
   "outputs": [
    {
     "data": {
      "text/plain": [
       "86.41527642726142"
      ]
     },
     "execution_count": 17,
     "metadata": {},
     "output_type": "execute_result"
    }
   ],
   "source": [
    "v = a * t \n",
    "v\n",
    "# 86m/s "
   ]
  },
  {
   "cell_type": "code",
   "execution_count": 18,
   "metadata": {},
   "outputs": [
    {
     "data": {
      "text/html": [
       "193.30546802805432 mile/hour"
      ],
      "text/latex": [
       "$193.30546802805432\\ \\frac{\\mathrm{mile}}{\\mathrm{hour}}$"
      ],
      "text/plain": [
       "193.30546802805432 <Unit('mile / hour')>"
      ]
     },
     "execution_count": 18,
     "metadata": {},
     "output_type": "execute_result"
    }
   ],
   "source": [
    "# Computation with units \n",
    "units = UnitRegistry()\n",
    "meter = units.meter \n",
    "meter \n",
    "\n",
    "second = units.second \n",
    "second \n",
    "\n",
    "# adds the units m/s*2 to a \n",
    "a = 9.8 * meter / second**2 \n",
    "a \n",
    "\n",
    "# adding seconds to t \n",
    "t = 3.4 * second \n",
    "t \n",
    "\n",
    "# computing distance penny would fall after t seconds \n",
    "a * t**2 / 2 \n",
    "\n",
    "# height of building \n",
    "h = 381 * meter\n",
    "h\n",
    "\n",
    "# time for penny to hit the ground \n",
    "t = sqrt(2 * h / a)\n",
    "t\n",
    "\n",
    "# veloicty on impact\n",
    "v = a * t \n",
    "v\n",
    "# converts to miles per hour \n",
    "mile = units.mile \n",
    "hour = units.hour \n",
    "\n",
    "v.to(mile/hour)"
   ]
  }
 ],
 "metadata": {
  "kernelspec": {
   "display_name": "Python 3",
   "language": "python",
   "name": "python3"
  },
  "language_info": {
   "codemirror_mode": {
    "name": "ipython",
    "version": 3
   },
   "file_extension": ".py",
   "mimetype": "text/x-python",
   "name": "python",
   "nbconvert_exporter": "python",
   "pygments_lexer": "ipython3",
   "version": "3.9.2"
  },
  "orig_nbformat": 4
 },
 "nbformat": 4,
 "nbformat_minor": 2
}
